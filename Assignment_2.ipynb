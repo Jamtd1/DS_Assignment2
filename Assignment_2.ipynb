{
 "cells": [
  {
   "cell_type": "code",
   "execution_count": 1,
   "metadata": {},
   "outputs": [],
   "source": [
    "import unittest\n",
    "import time\n",
    "import matplotlib.pyplot as plt"
   ]
  },
  {
   "cell_type": "markdown",
   "metadata": {},
   "source": [
    "# Part 1 - Linked Lists\n"
   ]
  },
  {
   "cell_type": "code",
   "execution_count": 2,
   "metadata": {},
   "outputs": [],
   "source": [
    "class LinkedListItem:\n",
    "    # set up the linked list node with the declared value \n",
    "    # and reference to the next value\n",
    "    def __init__(self, value, next):\n",
    "        self.value = value\n",
    "        self.next = next\n",
    "\n",
    "    def get_next(self):\n",
    "        return self.next\n",
    "\n",
    "    def get_value(self):\n",
    "        return self.value\n",
    "\n",
    "    # used to return the value, instead of the data type\n",
    "    def __repr__(self):\n",
    "        return str(self.value)\n"
   ]
  },
  {
   "cell_type": "code",
   "execution_count": 3,
   "metadata": {},
   "outputs": [],
   "source": [
    "class myLinkedList:\n",
    "    \n",
    "    # set head as none\n",
    "    def __init__(self):\n",
    "        self.head = None\n",
    "        \n",
    "    # check if the instance is empty\n",
    "    def isEmpty(self):\n",
    "        return self.head == None\n",
    "\n",
    "    # return the tail value\n",
    "    def get_tail(self):\n",
    "        # Get the current head \n",
    "        item = self.head\n",
    "\n",
    "        # use the head to start the iteration over the list\n",
    "        # the tail will be the 2nd last node\n",
    "        while item.next is not None:\n",
    "            item = item.next\n",
    "\n",
    "        # Return the second the tail\n",
    "        return item\n",
    "\n",
    "    # return the current head\n",
    "    def get_head(self):\n",
    "        return self.head\n",
    "\n",
    "    # insert a node at the head of the list\n",
    "    def add_first(self, value):\n",
    "        self.head = LinkedListItem(value, self.head)\n",
    "\n",
    "    #insert a node at the tail of the list\n",
    "    def add_last(self, value):\n",
    "        # check if list is empty, add_last can't add a node unless \n",
    "        # there is at least one node in the list already\n",
    "        if (self.isEmpty()): \n",
    "            self.add_first(value)\n",
    "        else:\n",
    "            # add an item to the tail\n",
    "            item = self.get_tail()\n",
    "            item.next = LinkedListItem(value, None)\n",
    "\n",
    "    # remove the head\n",
    "    def remove_first(self):\n",
    "        self.head = self.head.next\n",
    "\n",
    "    # print the list\n",
    "    def list_traversal(self):\n",
    "        item = self.head\n",
    "        items = []\n",
    "\n",
    "        while item is not None:\n",
    "            items.append(str(item.value))\n",
    "            item = item.next\n",
    "\n",
    "        items.append(\"None\")\n",
    "        return \" -> \".join(items)"
   ]
  },
  {
   "cell_type": "code",
   "execution_count": 4,
   "metadata": {},
   "outputs": [
    {
     "name": "stderr",
     "output_type": "stream",
     "text": [
      ".....\n",
      "----------------------------------------------------------------------\n",
      "Ran 5 tests in 0.013s\n",
      "\n",
      "OK\n"
     ]
    }
   ],
   "source": [
    "# testing for the linked list class\n",
    "\n",
    "class TestMyLinkedList(unittest.TestCase):\n",
    "    def test_can_check_for_empty(self):\n",
    "        linked_list = myLinkedList()\n",
    "\n",
    "        self.assertEqual(linked_list.head, None, \"the list was initialized correctly\")\n",
    "        self.assertEqual(linked_list.isEmpty(), True, \"the list is empty\")\n",
    "\n",
    "        linked_list.add_first(1)\n",
    "\n",
    "        self.assertEqual(linked_list.head.get_value(), 1, \"the value was pushed to the list\")\n",
    "        self.assertEqual(linked_list.isEmpty(), False, \"the list is not empty\")  \n",
    "        \n",
    "    def test_can_add_to_the_list(self):\n",
    "        linked_list = myLinkedList()\n",
    "\n",
    "        self.assertEqual(linked_list.get_head(), None, \"The head of the linked_list was initialized\")\n",
    "\n",
    "        linked_list.add_first(1)\n",
    "\n",
    "        self.assertEqual(linked_list.get_head().get_value(), 1, \"The head of the linked_list was updated\")\n",
    "\n",
    "    def test_can_add_to_the_end_of_the_list(self):\n",
    "        linked_list = myLinkedList()\n",
    "\n",
    "        self.assertEqual(linked_list.get_head(), None, \"The head of the linked_list was initialized\")\n",
    "\n",
    "        linked_list.add_first(1)\n",
    "        linked_list.add_last(2)\n",
    "\n",
    "        self.assertEqual(linked_list.get_head().get_value(), 1, \"The head of the linked_list was updated\")\n",
    "        self.assertEqual(linked_list.get_tail().get_value(), 2, \"The tail of the linked_list was updated\")\n",
    "\n",
    "    def test_can_remove_from_the_list(self):\n",
    "        linked_list = myLinkedList()\n",
    "\n",
    "        self.assertEqual(linked_list.get_head(), None, \"The head of the linked_list was initialized\")\n",
    "\n",
    "        linked_list.add_first(1)\n",
    "\n",
    "        self.assertEqual(linked_list.get_head().get_value(), 1, \"The head of the linked_list was updated\")\n",
    "\n",
    "        linked_list.remove_first()\n",
    "\n",
    "        self.assertEqual(linked_list.get_head(), None, \"The head of the linked_list was initialized\")\n",
    "\n",
    "    def test_can_check_for_empty(self):\n",
    "        linked_list = myLinkedList()\n",
    "\n",
    "        self.assertEqual(linked_list.head, None, \"the list was initialized correctly\")\n",
    "        self.assertEqual(linked_list.isEmpty(), True, \"the list is empty\")\n",
    "\n",
    "        linked_list.add_first(1)\n",
    "\n",
    "        self.assertEqual(linked_list.head.get_value(), 1, \"the value was pushed to the list\")\n",
    "        self.assertEqual(linked_list.isEmpty(), False, \"the list is not empty\")    \n",
    "    \n",
    "    def test_can_traverse_the_list(self):\n",
    "        linked_list = myLinkedList()\n",
    "\n",
    "        linked_list.add_first(1)\n",
    "        linked_list.add_first(2)\n",
    "        linked_list.add_first(3)\n",
    "\n",
    "        self.assertEqual(linked_list.list_traversal(), \"3 -> 2 -> 1 -> None\", \"The list is traversed correrctly\")\n",
    "\n",
    "if __name__ == \"__main__\":\n",
    "    unittest.main(argv=['first-arg-is-ignored'], exit=False)"
   ]
  },
  {
   "cell_type": "code",
   "execution_count": null,
   "metadata": {},
   "outputs": [],
   "source": []
  },
  {
   "cell_type": "code",
   "execution_count": null,
   "metadata": {},
   "outputs": [],
   "source": []
  },
  {
   "cell_type": "code",
   "execution_count": null,
   "metadata": {},
   "outputs": [],
   "source": []
  },
  {
   "cell_type": "markdown",
   "metadata": {},
   "source": [
    "# Part 2 - Stack ADT\n"
   ]
  },
  {
   "cell_type": "code",
   "execution_count": 5,
   "metadata": {},
   "outputs": [],
   "source": [
    "class StackItem:\n",
    "    # Setup the initial values with the Next list item\n",
    "    # being blank & setting the passed in value.\n",
    "    def __init__(self, value, next):\n",
    "        self.value = value\n",
    "        self.next = next\n",
    "\n",
    "    def get_next(self):\n",
    "        return self.next\n",
    "\n",
    "    def get_value(self):\n",
    "        return self.value\n",
    "\n",
    "    # This is returned when attempting to evaulate the class\n",
    "    def __repr__(self):\n",
    "        return str(self.value)\n"
   ]
  },
  {
   "cell_type": "code",
   "execution_count": 6,
   "metadata": {},
   "outputs": [],
   "source": [
    "class myStack:\n",
    "    def __init__(self):\n",
    "        self.head = None\n",
    "    \n",
    "    # adds a new node to the head of the list\n",
    "    def push(self, value):\n",
    "        self.head = StackItem(value, self.head)\n",
    "\n",
    "    # removes the node at the head\n",
    "    def pop(self):\n",
    "        head = self.head.get_value()\n",
    "        self.head = self.head.get_next()\n",
    "        return head\n",
    "\n",
    "    # peeks at the head node without removing\n",
    "    def top(self):\n",
    "        return self.head.get_value()\n",
    "\n",
    "    # check if the instance is empty\n",
    "    def isEmpty(self):\n",
    "        return self.head == None\n",
    "    \n",
    "    # return the contents of the stack when printing the stack instance\n",
    "    def __repr__(self):\n",
    "        item = self.head\n",
    "        items = []\n",
    "\n",
    "        while item is not None:\n",
    "            items.append(str(item.value))\n",
    "            item = item.next\n",
    "\n",
    "        items.append(\"None\")\n",
    "        return \" -> \".join(items)"
   ]
  },
  {
   "cell_type": "code",
   "execution_count": 7,
   "metadata": {},
   "outputs": [
    {
     "name": "stderr",
     "output_type": "stream",
     "text": [
      ".....\n",
      "----------------------------------------------------------------------\n",
      "Ran 5 tests in 0.005s\n",
      "\n",
      "OK\n"
     ]
    }
   ],
   "source": [
    "# tests for the stack clas methods\n",
    "\n",
    "class TestMyLinkedList(unittest.TestCase):\n",
    "    def test_can_push_to_stack(self):\n",
    "        stack = myStack()\n",
    "\n",
    "        self.assertEqual(stack.head, None, \"the was initialized correctly\")\n",
    "\n",
    "        stack.push(1)\n",
    "\n",
    "        self.assertEqual(stack.head.get_value(), 1, \"the value was pushed to the stack\")\n",
    "\n",
    "        stack.push(2)\n",
    "\n",
    "        self.assertEqual(stack.head.get_value(), 2, \"the value was pushed to the stack\")\n",
    "\n",
    "    def test_can_remove_from_stack(self):\n",
    "        stack = myStack()\n",
    "\n",
    "        stack.push(1)\n",
    "\n",
    "        self.assertEqual(stack.head.get_value(), 1, \"the value was pushed to the stack\")\n",
    "\n",
    "        value = stack.pop()\n",
    "\n",
    "        self.assertEqual(value, 1, \"pop returns the value from the top of the stack\")\n",
    "        self.assertEqual(stack.head, None, \"the head was popped from the stack\")\n",
    "\n",
    "    def test_can_retrieve_the_top_element_without_removing_it(self):\n",
    "        stack = myStack()\n",
    "\n",
    "        stack.push(1)\n",
    "\n",
    "        self.assertEqual(stack.head.get_value(), 1, \"the value was pushed to the stack\")\n",
    "\n",
    "        value = stack.top()\n",
    "\n",
    "        self.assertEqual(value, 1, \"pop returns the value from the top of the stack\")\n",
    "        self.assertEqual(stack.head.get_value(), 1, \"the head was popped from the stack\")\n",
    "\n",
    "    def test_can_check_for_empty(self):\n",
    "        stack = myStack()\n",
    "\n",
    "        self.assertEqual(stack.head, None, \"the was initialized correctly\")\n",
    "        self.assertEqual(stack.isEmpty(), True, \"the stack is empty\")\n",
    "\n",
    "        stack.push(1)\n",
    "\n",
    "        self.assertEqual(stack.head.get_value(), 1, \"the value was pushed to the stack\")\n",
    "        self.assertEqual(stack.isEmpty(), False, \"the stack is not empty\")\n",
    "\n",
    "    def test_can_print_stack(self):\n",
    "        stack = myStack()\n",
    "\n",
    "        stack.push(1)\n",
    "        stack.push(2)\n",
    "        stack.push(3)\n",
    "\n",
    "        self.assertEqual(str(stack), \"3 -> 2 -> 1 -> None\", \"The stack is structured correctly\")\n",
    "\n",
    "\n",
    "if __name__ == \"__main__\":\n",
    "    unittest.main(argv=['first-arg-is-ignored'], exit=False)\n"
   ]
  },
  {
   "cell_type": "markdown",
   "metadata": {},
   "source": [
    "### Part 2b"
   ]
  },
  {
   "cell_type": "markdown",
   "metadata": {},
   "source": [
    "What values are returned during the following series of\n",
    "stack operations, if executed upon an initially empty stack S?\n",
    "push(5), push(3), pop(), push(2), push(8), pop(), pop(),\n",
    "push(9), push(1), pop(), push(7), push(6), pop(), pop(),\n",
    "push(4), pop(), and pop()"
   ]
  },
  {
   "cell_type": "code",
   "execution_count": 8,
   "metadata": {},
   "outputs": [],
   "source": [
    "stackTesting = myStack()"
   ]
  },
  {
   "cell_type": "code",
   "execution_count": 9,
   "metadata": {},
   "outputs": [],
   "source": [
    "stackTesting.push(5)"
   ]
  },
  {
   "cell_type": "code",
   "execution_count": 10,
   "metadata": {},
   "outputs": [],
   "source": [
    "stackTesting.push(3)"
   ]
  },
  {
   "cell_type": "code",
   "execution_count": 11,
   "metadata": {},
   "outputs": [
    {
     "data": {
      "text/plain": [
       "3"
      ]
     },
     "execution_count": 11,
     "metadata": {},
     "output_type": "execute_result"
    }
   ],
   "source": [
    "stackTesting.pop()"
   ]
  },
  {
   "cell_type": "code",
   "execution_count": 12,
   "metadata": {},
   "outputs": [],
   "source": [
    "stackTesting.push(2)"
   ]
  },
  {
   "cell_type": "code",
   "execution_count": 13,
   "metadata": {},
   "outputs": [],
   "source": [
    "stackTesting.push(8)"
   ]
  },
  {
   "cell_type": "code",
   "execution_count": 14,
   "metadata": {},
   "outputs": [
    {
     "data": {
      "text/plain": [
       "8"
      ]
     },
     "execution_count": 14,
     "metadata": {},
     "output_type": "execute_result"
    }
   ],
   "source": [
    "stackTesting.pop()"
   ]
  },
  {
   "cell_type": "code",
   "execution_count": 15,
   "metadata": {},
   "outputs": [
    {
     "data": {
      "text/plain": [
       "2"
      ]
     },
     "execution_count": 15,
     "metadata": {},
     "output_type": "execute_result"
    }
   ],
   "source": [
    "stackTesting.pop()"
   ]
  },
  {
   "cell_type": "code",
   "execution_count": 16,
   "metadata": {},
   "outputs": [],
   "source": [
    "stackTesting.push(9)"
   ]
  },
  {
   "cell_type": "code",
   "execution_count": 17,
   "metadata": {},
   "outputs": [],
   "source": [
    "stackTesting.push(1)"
   ]
  },
  {
   "cell_type": "code",
   "execution_count": 18,
   "metadata": {},
   "outputs": [
    {
     "data": {
      "text/plain": [
       "1"
      ]
     },
     "execution_count": 18,
     "metadata": {},
     "output_type": "execute_result"
    }
   ],
   "source": [
    "stackTesting.pop()"
   ]
  },
  {
   "cell_type": "code",
   "execution_count": 19,
   "metadata": {},
   "outputs": [],
   "source": [
    "stackTesting.push(7)"
   ]
  },
  {
   "cell_type": "code",
   "execution_count": 20,
   "metadata": {},
   "outputs": [],
   "source": [
    "stackTesting.push(6)"
   ]
  },
  {
   "cell_type": "code",
   "execution_count": 21,
   "metadata": {},
   "outputs": [
    {
     "data": {
      "text/plain": [
       "6"
      ]
     },
     "execution_count": 21,
     "metadata": {},
     "output_type": "execute_result"
    }
   ],
   "source": [
    "stackTesting.pop()"
   ]
  },
  {
   "cell_type": "code",
   "execution_count": 22,
   "metadata": {},
   "outputs": [
    {
     "data": {
      "text/plain": [
       "7"
      ]
     },
     "execution_count": 22,
     "metadata": {},
     "output_type": "execute_result"
    }
   ],
   "source": [
    "stackTesting.pop()"
   ]
  },
  {
   "cell_type": "code",
   "execution_count": 23,
   "metadata": {},
   "outputs": [],
   "source": [
    "stackTesting.push(4)"
   ]
  },
  {
   "cell_type": "code",
   "execution_count": 24,
   "metadata": {},
   "outputs": [
    {
     "data": {
      "text/plain": [
       "4"
      ]
     },
     "execution_count": 24,
     "metadata": {},
     "output_type": "execute_result"
    }
   ],
   "source": [
    "stackTesting.pop()"
   ]
  },
  {
   "cell_type": "code",
   "execution_count": 25,
   "metadata": {},
   "outputs": [
    {
     "data": {
      "text/plain": [
       "9"
      ]
     },
     "execution_count": 25,
     "metadata": {},
     "output_type": "execute_result"
    }
   ],
   "source": [
    "stackTesting.pop()"
   ]
  },
  {
   "cell_type": "code",
   "execution_count": 26,
   "metadata": {},
   "outputs": [
    {
     "name": "stdout",
     "output_type": "stream",
     "text": [
      "5 -> None\n"
     ]
    }
   ],
   "source": [
    "print(stackTesting)"
   ]
  },
  {
   "cell_type": "markdown",
   "metadata": {},
   "source": [
    "### Part 2c"
   ]
  },
  {
   "cell_type": "markdown",
   "metadata": {},
   "source": [
    "Suppose an initially empty stack S has executed a total of\n",
    "35 push operations, 15 top operations, and 10 pop operations,\n",
    "3 of which raised Empty errors that were caught and ignored.\n",
    "What is the current size of S?"
   ]
  },
  {
   "cell_type": "markdown",
   "metadata": {},
   "source": [
    "0 + 35 - (10-3) \n",
    "35 - 7\n",
    "28\n",
    "\n",
    "The stack has 28 nodes in the stack"
   ]
  },
  {
   "cell_type": "markdown",
   "metadata": {},
   "source": [
    "# Part 3 - QueueADT"
   ]
  },
  {
   "cell_type": "code",
   "execution_count": 27,
   "metadata": {},
   "outputs": [],
   "source": [
    "class QueueItem:\n",
    "    \n",
    "    # initialise the next and previous varibales\n",
    "    next = None\n",
    "    previous = None\n",
    "\n",
    "    # construct the node information\n",
    "    def __init__(self, value):\n",
    "        self.value = value\n",
    "\n",
    "    def get_next(self):\n",
    "        return self.next\n",
    "\n",
    "    def get_previous(self):\n",
    "        return self.previous\n",
    "\n",
    "    def get_value(self):\n",
    "        return self.value\n",
    "\n",
    "    # This is returned when attempting to evaulate the class\n",
    "    def __repr__(self):\n",
    "        return str(self.value)"
   ]
  },
  {
   "cell_type": "code",
   "execution_count": 28,
   "metadata": {},
   "outputs": [],
   "source": [
    "class myQueue:\n",
    "    # set head and tail to none\n",
    "    head = None\n",
    "    tail = None\n",
    "    \n",
    "    # initialise the size to reduce time initialising\n",
    "    size = 0\n",
    "\n",
    "    def enqueue(self, value):\n",
    "        # if the tail is none, \n",
    "        # create a new QueueItem and set the head and tail to it\n",
    "        # else \n",
    "        # create a new item, set the current tails\n",
    "        # next element to be it & then set tail to the new item\n",
    "        if (self.tail == None):\n",
    "            self.head = QueueItem(value)\n",
    "            self.tail = self.head\n",
    "        else:\n",
    "            self.tail.next = QueueItem(value)\n",
    "            self.tail.next.previous = self.tail\n",
    "            self.tail = self.tail.next\n",
    "\n",
    "        self.size += 1\n",
    "        \n",
    "    def dequeue(self):\n",
    "        if (self.head == None): return None\n",
    "\n",
    "        # Get the value of the first element in the queue\n",
    "        # and store it in a temporary parameter. Then set\n",
    "        # the head to the next QueueItem and clear its\n",
    "        # previous value\n",
    "        head = self.head.get_value()\n",
    "        self.head = self.head.get_next()\n",
    "        if (self.head != None): self.head.previous = None\n",
    "\n",
    "        self.size -= 1\n",
    "\n",
    "        return head\n",
    "    \n",
    "    # check the value at the head without removing it \n",
    "    def top(self):\n",
    "        return self.head.get_value()\n",
    "\n",
    "    # check if the queue is empty\n",
    "    def is_empty(self):\n",
    "        return self.head == None\n",
    "\n",
    "    # calculate the size so as to reduce the processing time\n",
    "    def get_size(self):\n",
    "        return self.size;\n",
    "\n",
    "    # returns the instance values when print is called on the class instance\n",
    "    def __repr__(self):\n",
    "        item = self.head\n",
    "        items = []\n",
    "\n",
    "        while item is not None:\n",
    "            items.append(str(item.value))\n",
    "            item = item.next\n",
    "\n",
    "        items.append(\"None\")\n",
    "        return \" -> \".join(items)"
   ]
  },
  {
   "cell_type": "code",
   "execution_count": 29,
   "metadata": {},
   "outputs": [
    {
     "name": "stderr",
     "output_type": "stream",
     "text": [
      "......\n",
      "----------------------------------------------------------------------\n",
      "Ran 6 tests in 0.010s\n",
      "\n",
      "OK\n"
     ]
    }
   ],
   "source": [
    "# test for the queue class methods\n",
    "\n",
    "class TestMyLinkedList(unittest.TestCase):\n",
    "    def test_can_enqueue_to_queue(self):\n",
    "        queue = myQueue()\n",
    "\n",
    "        self.assertEqual(queue.head, None, \"the was initialized correctly\")\n",
    "\n",
    "        queue.enqueue(1)\n",
    "\n",
    "        self.assertEqual(queue.head.get_value(), 1, \"the value was enqueueed to the queue\")\n",
    "        self.assertEqual(queue.tail.get_value(), 1, \"the tail is the last value\")\n",
    "\n",
    "        queue.enqueue(2)\n",
    "\n",
    "        self.assertEqual(queue.head.get_value(), 1, \"the value was enqueueed to the queue\")\n",
    "        self.assertEqual(queue.tail.get_value(), 2, \"the tail is still the last value\")\n",
    "\n",
    "    def test_can_dequeue_from_queue(self):\n",
    "        queue = myQueue()\n",
    "\n",
    "        queue.enqueue(1)\n",
    "        queue.enqueue(2)\n",
    "\n",
    "        self.assertEqual(queue.head.get_value(), 1, \"the value was enqueueed to the queue\")\n",
    "        self.assertEqual(queue.tail.get_value(), 2, \"the tail is correct\")\n",
    "\n",
    "        value = queue.dequeue()\n",
    "\n",
    "        self.assertEqual(value, 1, \"dequeue returns the value from the top of the queue\")\n",
    "        self.assertEqual(queue.head.get_value(), 2, \"the head was dequeued from the queue\")\n",
    "\n",
    "    def test_can_retrieve_the_top_element_without_removing_it(self):\n",
    "        queue = myQueue()\n",
    "\n",
    "        queue.enqueue(1)\n",
    "\n",
    "        self.assertEqual(queue.head.get_value(), 1, \"the value was enqueueed to the queue\")\n",
    "\n",
    "        value = queue.top()\n",
    "\n",
    "        self.assertEqual(value, 1, \"dequeue returns the value from the top of the queue\")\n",
    "        self.assertEqual(queue.head.get_value(), 1, \"the head was dequeued from the queue\")\n",
    "\n",
    "    def test_can_tell_if_queue_is_empty(self):\n",
    "        queue = myQueue()\n",
    "\n",
    "        self.assertEqual(queue.is_empty(), True, \"is_empty returns true initially\")\n",
    "\n",
    "        queue.enqueue(1)\n",
    "\n",
    "        self.assertEqual(queue.is_empty(), False, \"is_empty returns false when items are in the queue\")\n",
    "\n",
    "        queue.dequeue()\n",
    "\n",
    "        self.assertEqual(queue.is_empty(), True, \"is_empty returns true once all queue items are removed\")\n",
    "\n",
    "    def test_size_is_reported_correctly(self):\n",
    "        queue = myQueue()\n",
    "\n",
    "        self.assertEqual(queue.get_size(), 0, \"The size of the stack is correct\")\n",
    "\n",
    "        queue.enqueue(1)\n",
    "\n",
    "        self.assertEqual(queue.get_size(), 1, \"The size of the stack has increased\")\n",
    "\n",
    "        queue.dequeue()\n",
    "\n",
    "        self.assertEqual(queue.get_size(), 0, \"The size of the stack has decreased\")\n",
    "\n",
    "    def test_can_print_queue(self):\n",
    "        queue = myQueue()\n",
    "\n",
    "        queue.enqueue(1)\n",
    "        queue.enqueue(2)\n",
    "        queue.enqueue(3)\n",
    "\n",
    "        self.assertEqual(str(queue), \"1 -> 2 -> 3 -> None\", \"The queue is structured correctly\")\n",
    "\n",
    "\n",
    "if __name__ == \"__main__\":\n",
    "    unittest.main(argv=['first-arg-is-ignored'], exit=False)\n"
   ]
  },
  {
   "cell_type": "markdown",
   "metadata": {},
   "source": [
    "### Part 3b"
   ]
  },
  {
   "cell_type": "markdown",
   "metadata": {},
   "source": [
    "What values are returned during the following sequence of\n",
    "queue operations, if executed on an initially empty queue Q?\n",
    "enqueue(5), enqueue(3), dequeue(), enqueue(2), enqueue(8),\n",
    "dequeue(), dequeue(), enqueue(9), enqueue(1), dequeue(),\n",
    "enqueue(7), enqueue(6), dequeue(), dequeue(), enqueue(4),\n",
    "dequeue(), dequeue()"
   ]
  },
  {
   "cell_type": "code",
   "execution_count": 30,
   "metadata": {},
   "outputs": [],
   "source": [
    "queueTesting = myQueue()"
   ]
  },
  {
   "cell_type": "code",
   "execution_count": 31,
   "metadata": {},
   "outputs": [],
   "source": [
    "queueTesting.enqueue(5)"
   ]
  },
  {
   "cell_type": "code",
   "execution_count": 32,
   "metadata": {},
   "outputs": [],
   "source": [
    "queueTesting.enqueue(3)"
   ]
  },
  {
   "cell_type": "code",
   "execution_count": 33,
   "metadata": {},
   "outputs": [
    {
     "data": {
      "text/plain": [
       "5"
      ]
     },
     "execution_count": 33,
     "metadata": {},
     "output_type": "execute_result"
    }
   ],
   "source": [
    "queueTesting.dequeue()"
   ]
  },
  {
   "cell_type": "code",
   "execution_count": 34,
   "metadata": {},
   "outputs": [],
   "source": [
    "queueTesting.enqueue(2)"
   ]
  },
  {
   "cell_type": "code",
   "execution_count": 35,
   "metadata": {},
   "outputs": [],
   "source": [
    "queueTesting.enqueue(8)"
   ]
  },
  {
   "cell_type": "code",
   "execution_count": 36,
   "metadata": {},
   "outputs": [
    {
     "data": {
      "text/plain": [
       "3"
      ]
     },
     "execution_count": 36,
     "metadata": {},
     "output_type": "execute_result"
    }
   ],
   "source": [
    "queueTesting.dequeue()"
   ]
  },
  {
   "cell_type": "code",
   "execution_count": 37,
   "metadata": {},
   "outputs": [
    {
     "data": {
      "text/plain": [
       "2"
      ]
     },
     "execution_count": 37,
     "metadata": {},
     "output_type": "execute_result"
    }
   ],
   "source": [
    "queueTesting.dequeue()"
   ]
  },
  {
   "cell_type": "code",
   "execution_count": 38,
   "metadata": {},
   "outputs": [],
   "source": [
    "queueTesting.enqueue(9)"
   ]
  },
  {
   "cell_type": "code",
   "execution_count": 39,
   "metadata": {},
   "outputs": [],
   "source": [
    "queueTesting.enqueue(1)"
   ]
  },
  {
   "cell_type": "code",
   "execution_count": 40,
   "metadata": {},
   "outputs": [
    {
     "data": {
      "text/plain": [
       "8"
      ]
     },
     "execution_count": 40,
     "metadata": {},
     "output_type": "execute_result"
    }
   ],
   "source": [
    "queueTesting.dequeue()"
   ]
  },
  {
   "cell_type": "code",
   "execution_count": 41,
   "metadata": {},
   "outputs": [],
   "source": [
    "queueTesting.enqueue(7)"
   ]
  },
  {
   "cell_type": "code",
   "execution_count": 42,
   "metadata": {},
   "outputs": [],
   "source": [
    "queueTesting.enqueue(6)"
   ]
  },
  {
   "cell_type": "code",
   "execution_count": 43,
   "metadata": {},
   "outputs": [
    {
     "data": {
      "text/plain": [
       "9"
      ]
     },
     "execution_count": 43,
     "metadata": {},
     "output_type": "execute_result"
    }
   ],
   "source": [
    "queueTesting.dequeue()"
   ]
  },
  {
   "cell_type": "code",
   "execution_count": 44,
   "metadata": {},
   "outputs": [
    {
     "data": {
      "text/plain": [
       "1"
      ]
     },
     "execution_count": 44,
     "metadata": {},
     "output_type": "execute_result"
    }
   ],
   "source": [
    "queueTesting.dequeue()"
   ]
  },
  {
   "cell_type": "code",
   "execution_count": 45,
   "metadata": {},
   "outputs": [],
   "source": [
    "queueTesting.enqueue(4)"
   ]
  },
  {
   "cell_type": "code",
   "execution_count": 46,
   "metadata": {},
   "outputs": [
    {
     "data": {
      "text/plain": [
       "7"
      ]
     },
     "execution_count": 46,
     "metadata": {},
     "output_type": "execute_result"
    }
   ],
   "source": [
    "queueTesting.dequeue()"
   ]
  },
  {
   "cell_type": "code",
   "execution_count": 47,
   "metadata": {},
   "outputs": [
    {
     "data": {
      "text/plain": [
       "6"
      ]
     },
     "execution_count": 47,
     "metadata": {},
     "output_type": "execute_result"
    }
   ],
   "source": [
    "queueTesting.dequeue()"
   ]
  },
  {
   "cell_type": "code",
   "execution_count": 48,
   "metadata": {},
   "outputs": [
    {
     "name": "stdout",
     "output_type": "stream",
     "text": [
      "4 -> None\n"
     ]
    }
   ],
   "source": [
    "print(queueTesting)"
   ]
  },
  {
   "cell_type": "markdown",
   "metadata": {},
   "source": [
    "### Part 3c"
   ]
  },
  {
   "cell_type": "markdown",
   "metadata": {},
   "source": [
    "Suppose an initially empty queue Q has executed a total of\n",
    "50 enqueue operations, 15 top operations, and 15 dequeue\n",
    "operations, 5 of which raised Empty errors that were caught\n",
    "and ignored. What is the current size of Q?"
   ]
  },
  {
   "cell_type": "markdown",
   "metadata": {},
   "source": [
    "0 + 50 - (15 - 5)\n",
    "50 - 10\n",
    "40\n",
    "\n",
    "The current size of the q is 40 nodes"
   ]
  },
  {
   "cell_type": "markdown",
   "metadata": {},
   "source": [
    "## Running Times\n"
   ]
  },
  {
   "cell_type": "code",
   "execution_count": 49,
   "metadata": {},
   "outputs": [],
   "source": [
    "input1 = ['a', 'b', 'c', 'd', 'e', 'f', 'g']\n",
    "input2 = ['a', 'b', 'c', 'd', 'e', 'f', 'g', 'h', 'i', 'j', 'k', 'l', 'm', 'n']\n",
    "input3 = ['a', 'b', 'c', 'd', 'e', 'f', 'g', 'h', 'i', 'j', 'k', 'l', 'm', 'n', 'o', 'p', 'q', 'r', 's', 't', 'u', 'v', 'w', 'x', 'y', 'z']\n",
    "input4 = ['a', 'b', 'c', 'd', 'e', 'f', 'g', 'h', 'i', 'j', 'k', 'l', 'm', 'n', 'o', 'p', 'q', 'r', 's', 't', 'u', 'v', 'w', 'x', 'y', 'z', 0, 1, 2, 3, 4, 5, 6, 7, 8, 9]"
   ]
  },
  {
   "cell_type": "code",
   "execution_count": 50,
   "metadata": {},
   "outputs": [],
   "source": [
    "averageTimes = 10"
   ]
  },
  {
   "cell_type": "code",
   "execution_count": 51,
   "metadata": {},
   "outputs": [
    {
     "name": "stdout",
     "output_type": "stream",
     "text": [
      "8144 ns\n"
     ]
    }
   ],
   "source": [
    "j = 1\n",
    "linkListFirstTimes1 = []\n",
    "while j <= averageTimes:\n",
    "    tic = time.perf_counter_ns()\n",
    "    linkedListTime = myLinkedList()\n",
    "    for i in range(len(input1)):\n",
    "        linkedListTime.add_first(input1[i])\n",
    "    for i in range(len(input1)):\n",
    "        linkedListTime.remove_first()\n",
    "    toc = time.perf_counter_ns()\n",
    "    linkListFirstTimes1.append(toc - tic)\n",
    "    j += 1\n",
    "linkListFirst1 = int(round(sum(linkListFirstTimes1)/averageTimes,0))\n",
    "print(linkListFirst1, 'ns')"
   ]
  },
  {
   "cell_type": "code",
   "execution_count": 52,
   "metadata": {},
   "outputs": [
    {
     "name": "stdout",
     "output_type": "stream",
     "text": [
      "14044 ns\n"
     ]
    }
   ],
   "source": [
    "j = 1\n",
    "linkListFirstTimes2 = []\n",
    "while j <= averageTimes:\n",
    "    tic = time.perf_counter_ns()\n",
    "    linkedListTime = myLinkedList()\n",
    "    for i in range(len(input2)):\n",
    "        linkedListTime.add_first(input2[i])\n",
    "    for i in range(len(input2)):\n",
    "        linkedListTime.remove_first()\n",
    "    toc = time.perf_counter_ns()\n",
    "    linkListFirstTimes2.append(toc - tic)\n",
    "    j += 1\n",
    "linkListFirst2 = int(round(sum(linkListFirstTimes2)/averageTimes,0))\n",
    "print(linkListFirst2, 'ns')"
   ]
  },
  {
   "cell_type": "code",
   "execution_count": 53,
   "metadata": {},
   "outputs": [
    {
     "name": "stdout",
     "output_type": "stream",
     "text": [
      "70570 ns\n"
     ]
    }
   ],
   "source": [
    "j = 1\n",
    "linkListFirstTimes3 = []\n",
    "while j <= averageTimes:\n",
    "    tic = time.perf_counter_ns()\n",
    "    linkedListTime = myLinkedList()\n",
    "    for i in range(len(input3)):\n",
    "        linkedListTime.add_first(input3[i])\n",
    "    for i in range(len(input3)):\n",
    "        linkedListTime.remove_first()\n",
    "    toc = time.perf_counter_ns()\n",
    "    linkListFirstTimes3.append(toc - tic)\n",
    "    j += 1\n",
    "linkListFirst3 = int(round(sum(linkListFirstTimes3)/averageTimes,0))\n",
    "print(linkListFirst3, 'ns')"
   ]
  },
  {
   "cell_type": "code",
   "execution_count": 54,
   "metadata": {},
   "outputs": [
    {
     "name": "stdout",
     "output_type": "stream",
     "text": [
      "63646 ns\n"
     ]
    }
   ],
   "source": [
    "j = 1\n",
    "linkListFirstTimes4 = []\n",
    "while j <= averageTimes:\n",
    "    tic = time.perf_counter_ns()\n",
    "    linkedListTime = myLinkedList()\n",
    "    for i in range(len(input4)):\n",
    "        linkedListTime.add_first(input4[i])\n",
    "    for i in range(len(input4)):\n",
    "        linkedListTime.remove_first()\n",
    "    toc = time.perf_counter_ns()\n",
    "    linkListFirstTimes4.append(toc - tic)\n",
    "    j += 1\n",
    "linkListFirst4 = int(round(sum(linkListFirstTimes4)/averageTimes,0))\n",
    "print(linkListFirst4, 'ns')"
   ]
  },
  {
   "cell_type": "code",
   "execution_count": 55,
   "metadata": {},
   "outputs": [
    {
     "name": "stdout",
     "output_type": "stream",
     "text": [
      "22343 ns\n"
     ]
    }
   ],
   "source": [
    "j = 1\n",
    "linkListLastTimes1 = []\n",
    "while j <= averageTimes:\n",
    "    tic = time.perf_counter_ns()\n",
    "    linkedListTime = myLinkedList()\n",
    "    for i in range(len(input1)):\n",
    "        linkedListTime.add_last (input1[i])\n",
    "    for i in range(len(input1)):\n",
    "        linkedListTime.remove_first()\n",
    "    toc = time.perf_counter_ns()\n",
    "    linkListLastTimes1.append(toc - tic)\n",
    "    j += 1\n",
    "linkListLast1 = int(round(sum(linkListLastTimes1)/averageTimes,0))\n",
    "print(linkListLast1, 'ns')"
   ]
  },
  {
   "cell_type": "code",
   "execution_count": 56,
   "metadata": {},
   "outputs": [
    {
     "name": "stdout",
     "output_type": "stream",
     "text": [
      "24711 ns\n"
     ]
    }
   ],
   "source": [
    "j = 1\n",
    "linkListLastTimes2 = []\n",
    "while j <= averageTimes:\n",
    "    tic = time.perf_counter_ns()\n",
    "    linkedListTime = myLinkedList()\n",
    "    for i in range(len(input2)):\n",
    "        linkedListTime.add_last (input2[i])\n",
    "    for i in range(len(input2)):\n",
    "        linkedListTime.remove_first()\n",
    "    toc = time.perf_counter_ns()\n",
    "    linkListLastTimes2.append(toc - tic)\n",
    "    j += 1\n",
    "linkListLast2 = int(round(sum(linkListLastTimes2)/averageTimes,0))\n",
    "print(linkListLast2, 'ns')"
   ]
  },
  {
   "cell_type": "code",
   "execution_count": 57,
   "metadata": {},
   "outputs": [
    {
     "name": "stdout",
     "output_type": "stream",
     "text": [
      "55083 ns\n"
     ]
    }
   ],
   "source": [
    "j = 1\n",
    "linkListLastTimes3 = []\n",
    "while j <= averageTimes:\n",
    "    tic = time.perf_counter_ns()\n",
    "    linkedListTime = myLinkedList()\n",
    "    for i in range(len(input3)):\n",
    "        linkedListTime.add_last(input3[i])\n",
    "    for i in range(len(input3)):\n",
    "        linkedListTime.remove_first()\n",
    "    toc = time.perf_counter_ns()\n",
    "    linkListLastTimes3.append(toc - tic)\n",
    "    j += 1\n",
    "linkListLast3 = int(round(sum(linkListLastTimes3)/averageTimes,0))\n",
    "print(linkListLast3, 'ns')"
   ]
  },
  {
   "cell_type": "code",
   "execution_count": 58,
   "metadata": {},
   "outputs": [
    {
     "name": "stdout",
     "output_type": "stream",
     "text": [
      "259937 ns\n"
     ]
    }
   ],
   "source": [
    "j = 1\n",
    "linkListLastTimes4 = []\n",
    "while j <= averageTimes:\n",
    "    tic = time.perf_counter_ns()\n",
    "    linkedListTime = myLinkedList()\n",
    "    for i in range(len(input4)):\n",
    "        linkedListTime.add_last(input4[i])\n",
    "    for i in range(len(input4)):\n",
    "        linkedListTime.remove_first()\n",
    "    toc = time.perf_counter_ns()\n",
    "    linkListLastTimes4.append(toc - tic)\n",
    "    j += 1\n",
    "linkListLast4 = int(round(sum(linkListLastTimes4)/averageTimes,0))\n",
    "print(linkListLast4, 'ns')"
   ]
  },
  {
   "cell_type": "code",
   "execution_count": 59,
   "metadata": {},
   "outputs": [
    {
     "name": "stdout",
     "output_type": "stream",
     "text": [
      "9970 ns\n"
     ]
    }
   ],
   "source": [
    "j = 1\n",
    "stackTimes1 = []\n",
    "while j <= averageTimes:\n",
    "    tic = time.perf_counter_ns()\n",
    "    stackTime = myStack()\n",
    "    for i in range(len(input1)):\n",
    "        stackTime.push(input1[i])\n",
    "    for i in range(len(input1)):\n",
    "        stackTime.pop()\n",
    "    toc = time.perf_counter_ns()\n",
    "    stackTimes1.append(toc - tic)\n",
    "    j += 1\n",
    "stack1 = int(round(sum(stackTimes1)/averageTimes,0))\n",
    "print(stack1, 'ns')"
   ]
  },
  {
   "cell_type": "code",
   "execution_count": 60,
   "metadata": {},
   "outputs": [
    {
     "name": "stdout",
     "output_type": "stream",
     "text": [
      "17017 ns\n"
     ]
    }
   ],
   "source": [
    "j = 1\n",
    "stackTimes2 = []\n",
    "while j <= averageTimes:\n",
    "    tic = time.perf_counter_ns()\n",
    "    stackTime = myStack()\n",
    "    for i in range(len(input2)):\n",
    "        stackTime.push(input2[i])\n",
    "    for i in range(len(input2)):\n",
    "        stackTime.pop()\n",
    "    toc = time.perf_counter_ns()\n",
    "    stackTimes2.append(toc - tic)\n",
    "    j += 1\n",
    "stack2 = int(round(sum(stackTimes2)/averageTimes,0))\n",
    "print(stack2, 'ns')"
   ]
  },
  {
   "cell_type": "code",
   "execution_count": 61,
   "metadata": {},
   "outputs": [
    {
     "name": "stdout",
     "output_type": "stream",
     "text": [
      "29742 ns\n"
     ]
    }
   ],
   "source": [
    "j = 1\n",
    "stackTimes3 = []\n",
    "while j <= averageTimes:\n",
    "    tic = time.perf_counter_ns()\n",
    "    stackTime = myStack()\n",
    "    for i in range(len(input3)):\n",
    "        stackTime.push(input3[i])\n",
    "    for i in range(len(input3)):\n",
    "        stackTime.pop()\n",
    "    toc = time.perf_counter_ns()\n",
    "    stackTimes3.append(toc - tic)\n",
    "    j += 1\n",
    "stack3 = int(round(sum(stackTimes3)/averageTimes,0))\n",
    "print(stack3, 'ns')"
   ]
  },
  {
   "cell_type": "code",
   "execution_count": 62,
   "metadata": {},
   "outputs": [
    {
     "name": "stdout",
     "output_type": "stream",
     "text": [
      "107230 ns\n"
     ]
    }
   ],
   "source": [
    "j = 1\n",
    "stackTimes4 = []\n",
    "while j <= averageTimes:\n",
    "    tic = time.perf_counter_ns()\n",
    "    stackTime = myStack()\n",
    "    for i in range(len(input4)):\n",
    "        stackTime.push(input4[i])\n",
    "    for i in range(len(input4)):\n",
    "        stackTime.pop()\n",
    "    toc = time.perf_counter_ns()\n",
    "    stackTimes4.append(toc - tic)\n",
    "    j += 1\n",
    "stack4 = int(round(sum(stackTimes4)/averageTimes,0))\n",
    "print(stack4, 'ns')"
   ]
  },
  {
   "cell_type": "code",
   "execution_count": 63,
   "metadata": {},
   "outputs": [
    {
     "name": "stdout",
     "output_type": "stream",
     "text": [
      "55685 ns\n"
     ]
    }
   ],
   "source": [
    "j = 1\n",
    "queueTimes1 = []\n",
    "while j <= averageTimes:\n",
    "    tic = time.perf_counter_ns()\n",
    "    queueTime = myQueue()\n",
    "    for i in range(len(input1)):\n",
    "        queueTime.enqueue(input1[i])\n",
    "    for i in range(len(input1)):\n",
    "        queueTime.dequeue()\n",
    "    toc = time.perf_counter_ns()\n",
    "    queueTimes1.append(toc - tic)\n",
    "    j += 1\n",
    "queue1 = int(round(sum(queueTimes1)/averageTimes,0))\n",
    "print(queue1, 'ns')"
   ]
  },
  {
   "cell_type": "code",
   "execution_count": 64,
   "metadata": {},
   "outputs": [
    {
     "name": "stdout",
     "output_type": "stream",
     "text": [
      "57235 ns\n"
     ]
    }
   ],
   "source": [
    "j = 1\n",
    "queueTimes2 = []\n",
    "while j <= averageTimes:\n",
    "    tic = time.perf_counter_ns()\n",
    "    queueTime = myQueue()\n",
    "    for i in range(len(input2)):\n",
    "        queueTime.enqueue(input2[i])\n",
    "    for i in range(len(input2)):\n",
    "        queueTime.dequeue()\n",
    "    toc = time.perf_counter_ns()\n",
    "    queueTimes2.append(toc - tic)\n",
    "    j += 1\n",
    "queue2 = int(round(sum(queueTimes2)/averageTimes,0))\n",
    "print(queue2, 'ns')"
   ]
  },
  {
   "cell_type": "code",
   "execution_count": 65,
   "metadata": {},
   "outputs": [
    {
     "name": "stdout",
     "output_type": "stream",
     "text": [
      "132488 ns\n"
     ]
    }
   ],
   "source": [
    "j = 1\n",
    "queueTimes3 = []\n",
    "while j <= averageTimes:\n",
    "    tic = time.perf_counter_ns()\n",
    "    queueTime = myQueue()\n",
    "    for i in range(len(input3)):\n",
    "        queueTime.enqueue(input3[i])\n",
    "    for i in range(len(input3)):\n",
    "        queueTime.dequeue()\n",
    "    toc = time.perf_counter_ns()\n",
    "    queueTimes3.append(toc - tic)\n",
    "    j += 1\n",
    "queue3 = int(round(sum(queueTimes3)/averageTimes,0))\n",
    "print(queue3, 'ns')"
   ]
  },
  {
   "cell_type": "code",
   "execution_count": 66,
   "metadata": {},
   "outputs": [
    {
     "name": "stdout",
     "output_type": "stream",
     "text": [
      "119152 ns\n"
     ]
    }
   ],
   "source": [
    "j = 1\n",
    "queueTimes4 = []\n",
    "while j <= averageTimes:\n",
    "    tic = time.perf_counter_ns()\n",
    "    queueTime = myQueue()\n",
    "    for i in range(len(input4)):\n",
    "        queueTime.enqueue(input4[i])\n",
    "    for i in range(len(input4)):\n",
    "        queueTime.dequeue()\n",
    "    toc = time.perf_counter_ns()\n",
    "    queueTimes4.append(toc - tic)\n",
    "    j += 1\n",
    "queue4 = int(round(sum(queueTimes4)/averageTimes,0))\n",
    "print(queue4, 'ns')"
   ]
  },
  {
   "cell_type": "code",
   "execution_count": 67,
   "metadata": {},
   "outputs": [
    {
     "data": {
      "image/png": "[encoded data removed]",
      "text/plain": [
       "<Figure size 432x288 with 1 Axes>"
      ]
     },
     "metadata": {
      "needs_background": "light"
     },
     "output_type": "display_data"
    },
    {
     "data": {
      "text/plain": [
       "<Figure size 432x288 with 0 Axes>"
      ]
     },
     "metadata": {},
     "output_type": "display_data"
    }
   ],
   "source": [
    "# linked list head insertion \n",
    "x1 = [linkListFirst1, linkListFirst2, linkListFirst3, linkListFirst4]\n",
    "y1 = [len(input1), len(input2), len(input3), len(input4)]\n",
    "# plotting  \n",
    "plt.plot(x1, y1, label = \"list head\")\n",
    "# linked list tail insertion\n",
    "x2 = [linkListLast1, linkListLast2, linkListLast3, linkListLast4]\n",
    "y2 = [len(input1), len(input2), len(input3), len(input4)]\n",
    "# plotting\n",
    "plt.plot(x2, y2, label = \"list tail\")\n",
    "# stack \n",
    "x3 = [stack1, stack2, stack3, stack4]\n",
    "y3 = [len(input1), len(input2), len(input3), len(input4)]\n",
    "# plotting\n",
    "plt.plot(x3, y3, label = \"stack\")\n",
    "# queue\n",
    "x4 = [queue1, queue2, queue3, queue4]\n",
    "y4 = [len(input1), len(input2), len(input3), len(input4)]\n",
    "# plotting\n",
    "plt.plot(x4, y4, label = \"queue\")\n",
    "\n",
    "plt.xlabel('time (ns)')\n",
    "plt.ylabel('number of nodes')\n",
    "plt.title('Comparing Linked Lists Stacks and Queues')\n",
    "plt.legend()\n",
    "plt.show()\n",
    "plt.savefig('runningTimeComparrison.png')"
   ]
  },
  {
   "cell_type": "markdown",
   "metadata": {},
   "source": [
    "In order to compare the running times of the three structures 4 lists were created of increasing lenght. Each structure was timed to create an instance of the class, insert all the items in the input list into the class instance and then remove all the items inserted from the class. In order to try and avoid noise generated by the background processes of the CPU, the process was completed 10 times for each test and the times were averaged out. However, after printing the graph, there appears to be a lot of noise happening in the background with the computer which the averaging cannot seem to remove. \n",
    "\n",
    "According to the big-O notation the stack, queue and linked list head insertion should be O(1) as none of the implementations require the list to be traveresed to add and remove the node and the linked list tail insertion should be O(n) due to have to find the tail each time. The linked list tail insertion is tending towards O(n). The other three graphs are a little harder to interpret. The que and linked list head insertion could be analysed as trending to O(1) as both lines are starting to converge back to the starting position. Unfortunately, the stack is tending towards O(n). Upon further investigation with the times, it is determined that the list head, stack and queue are O(1) as each one adjusts slightly each time the graph is recalculated. The odd shapes to the lines are due to noise of the CPU and not an issue with the big-O notation."
   ]
  },
  {
   "cell_type": "code",
   "execution_count": null,
   "metadata": {},
   "outputs": [],
   "source": []
  }
 ],
 "metadata": {
  "kernelspec": {
   "display_name": "Python 3",
   "language": "python",
   "name": "python3"
  },
  "language_info": {
   "codemirror_mode": {
    "name": "ipython",
    "version": 3
   },
   "file_extension": ".py",
   "mimetype": "text/x-python",
   "name": "python",
   "nbconvert_exporter": "python",
   "pygments_lexer": "ipython3",
   "version": "3.8.5"
  }
 },
 "nbformat": 4,
 "nbformat_minor": 4
}
